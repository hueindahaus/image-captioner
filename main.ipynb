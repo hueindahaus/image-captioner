{
 "cells": [
  {
   "cell_type": "code",
   "execution_count": null,
   "id": "0b4cf561",
   "metadata": {
    "scrolled": false
   },
   "outputs": [],
   "source": [
    "%load_ext autoreload\n",
    "%autoreload 2\n",
    "\n",
    "from model_handler import ModelHandler\n",
    "from train import train\n"
   ]
  },
  {
   "cell_type": "code",
   "execution_count": null,
   "id": "0e74485e",
   "metadata": {},
   "outputs": [],
   "source": [
    "#primary8\n",
    "model_handler = ModelHandler('primary5')"
   ]
  },
  {
   "cell_type": "code",
   "execution_count": null,
   "id": "4f8ea1f1",
   "metadata": {},
   "outputs": [],
   "source": [
    "train(model_handler)"
   ]
  },
  {
   "cell_type": "code",
   "execution_count": null,
   "id": "fddaf9fd",
   "metadata": {},
   "outputs": [],
   "source": []
  }
 ],
 "metadata": {
  "kernelspec": {
   "display_name": "Python 3 (ipykernel)",
   "language": "python",
   "name": "python3"
  },
  "language_info": {
   "codemirror_mode": {
    "name": "ipython",
    "version": 3
   },
   "file_extension": ".py",
   "mimetype": "text/x-python",
   "name": "python",
   "nbconvert_exporter": "python",
   "pygments_lexer": "ipython3",
   "version": "3.7.11"
  }
 },
 "nbformat": 4,
 "nbformat_minor": 5
}
